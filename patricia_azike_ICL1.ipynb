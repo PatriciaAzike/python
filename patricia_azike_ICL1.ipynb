{
 "cells": [
  {
   "cell_type": "code",
   "execution_count": 5,
   "metadata": {},
   "outputs": [
    {
     "name": "stdout",
     "output_type": "stream",
     "text": [
      "Enter the first number: 10\n",
      "Enter the second number: 2\n",
      "Enter the third number: 98\n",
      "sum =  110\n",
      "Product =  1960\n",
      "Average =  36.666666666666664\n"
     ]
    }
   ],
   "source": [
    "# this program allows a user to enter three numbers,and then gives their sum, product and average\n",
    "\n",
    "var1 = int(input('Enter the first number: '))\n",
    "var2 = int(input('Enter the second number: '))\n",
    "var3 = int(input('Enter the third number: '))\n",
    "\n",
    "sum = var1 + var2 + var3\n",
    "Product = var1 * var2 * var3\n",
    "Average = sum / 3\n",
    "\n",
    "print('sum = ', sum)\n",
    "print('Product = ', Product)\n",
    "print('Average = ', Average)"
   ]
  },
  {
   "cell_type": "code",
   "execution_count": 6,
   "metadata": {},
   "outputs": [
    {
     "name": "stdout",
     "output_type": "stream",
     "text": [
      "Enter the first number: 6\n",
      "Enter the second number: 8\n",
      "p =  8\n",
      "q =  6\n"
     ]
    }
   ],
   "source": [
    "# this program allows a user to enter two numbers. It then swaps them using a number and displays them\n",
    "\n",
    "p = int(input('Enter the first number: '))\n",
    "q = int(input('Enter the second number: '))\n",
    "\n",
    "# here, x is the number used to swap them\n",
    "x = p\n",
    "p = q\n",
    "q = x\n",
    "\n",
    "print('p = ', p)\n",
    "print('q = ', q)\n"
   ]
  },
  {
   "cell_type": "code",
   "execution_count": 15,
   "metadata": {},
   "outputs": [
    {
     "name": "stdout",
     "output_type": "stream",
     "text": [
      "Area =  60\n",
      "Perimeter =  38\n"
     ]
    }
   ],
   "source": [
    "# this program calculates the area and perimeter of a rectangle\n",
    "l = 15\n",
    "b = 4\n",
    "\n",
    "Area = l * b\n",
    "Perimeter = 2 * (l + b)\n",
    "\n",
    "print('Area = ', Area)\n",
    "print('Perimeter = ', Perimeter)"
   ]
  },
  {
   "cell_type": "code",
   "execution_count": 13,
   "metadata": {},
   "outputs": [
    {
     "name": "stdout",
     "output_type": "stream",
     "text": [
      "Enter the radius of a circle: 5\n",
      "Enter the height of the cylinder: 12\n",
      "Area of the circle =  78.53981633974483\n",
      "Volume of the cylinder =  942.4777960769379\n"
     ]
    }
   ],
   "source": [
    "# This program allows a user to enter the radius of a circle and calculates the area of the circle. \n",
    "# It  also calculates the volume of the corresponding cylinder by asking the user to enter the height of the cylinder\n",
    "\n",
    "from numpy import pi\n",
    "r = float(input('Enter the radius of a circle: '))\n",
    "Area = pi * r **2\n",
    "\n",
    "h = float(input('Enter the height of the cylinder: '))\n",
    "Volume = Area * h\n",
    "\n",
    "print('Area of the circle = ', Area)\n",
    "print('Volume of the cylinder = ', Volume)"
   ]
  },
  {
   "cell_type": "code",
   "execution_count": null,
   "metadata": {},
   "outputs": [],
   "source": []
  }
 ],
 "metadata": {
  "kernelspec": {
   "display_name": "Python 3",
   "language": "python",
   "name": "python3"
  },
  "language_info": {
   "codemirror_mode": {
    "name": "ipython",
    "version": 3
   },
   "file_extension": ".py",
   "mimetype": "text/x-python",
   "name": "python",
   "nbconvert_exporter": "python",
   "pygments_lexer": "ipython3",
   "version": "3.7.3"
  }
 },
 "nbformat": 4,
 "nbformat_minor": 2
}
