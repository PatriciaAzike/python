{
 "cells": [
  {
   "cell_type": "code",
   "execution_count": 1,
   "metadata": {},
   "outputs": [
    {
     "name": "stdout",
     "output_type": "stream",
     "text": [
      "Enter a number between 1 and 12: 9\n",
      "The month belongs to autumn\n"
     ]
    }
   ],
   "source": [
    "M = int(input('Enter a number between 1 and 12: '))\n",
    "if 3 <= M <= 5:\n",
    "    print('The month belongs to spring')\n",
    "elif 6 <= M <= 8:\n",
    "    print('The month belongs to summer')\n",
    "elif 9 <= M <= 11:\n",
    "    print('The month belongs to autumn')\n",
    "elif M < 1 or M > 12:\n",
    "    print('No such month exists')\n",
    "else:\n",
    "    print('The month belongs to winter')"
   ]
  },
  {
   "cell_type": "code",
   "execution_count": null,
   "metadata": {},
   "outputs": [],
   "source": []
  },
  {
   "cell_type": "code",
   "execution_count": null,
   "metadata": {},
   "outputs": [],
   "source": []
  }
 ],
 "metadata": {
  "kernelspec": {
   "display_name": "Python 3",
   "language": "python",
   "name": "python3"
  },
  "language_info": {
   "codemirror_mode": {
    "name": "ipython",
    "version": 3
   },
   "file_extension": ".py",
   "mimetype": "text/x-python",
   "name": "python",
   "nbconvert_exporter": "python",
   "pygments_lexer": "ipython3",
   "version": "3.7.3"
  }
 },
 "nbformat": 4,
 "nbformat_minor": 2
}
