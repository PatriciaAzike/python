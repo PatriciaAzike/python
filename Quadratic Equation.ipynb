{
 "cells": [
  {
   "cell_type": "code",
   "execution_count": 11,
   "metadata": {},
   "outputs": [
    {
     "name": "stdout",
     "output_type": "stream",
     "text": [
      "Enter the value of a: 1\n",
      "Enter the value of b: -1\n",
      "Enter the constant: -1\n",
      "real and distinct roots: x_1 = 1.618033988749895 x_2 = -0.6180339887498949\n"
     ]
    }
   ],
   "source": [
    "a = float(input('Enter the value of a: '))\n",
    "b = float(input('Enter the value of b: '))\n",
    "c = float(input('Enter the constant: '))\n",
    "x_1 = (-b + (b**2 - 4*a*c)**(1/2))/ 2*a\n",
    "x_2 = (-b - (b**2 - 4*a*c)**(1/2))/ 2*a\n",
    "if b**2 > 4*a*c:\n",
    "    print('real and distinct roots: ' 'x_1 =', x_1, 'x_2 =', x_2)\n",
    "elif b**2 == 4*a*c:\n",
    "    print('real and repeated roots: ' 'x_1 =', x_1, 'x_2 =', x_2)\n",
    "else:\n",
    "    print('complex roots: ' 'x_1 =', x_1,  'x_2 =', x_2)"
   ]
  },
  {
   "cell_type": "code",
   "execution_count": null,
   "metadata": {},
   "outputs": [],
   "source": []
  }
 ],
 "metadata": {
  "kernelspec": {
   "display_name": "Python 3",
   "language": "python",
   "name": "python3"
  },
  "language_info": {
   "codemirror_mode": {
    "name": "ipython",
    "version": 3
   },
   "file_extension": ".py",
   "mimetype": "text/x-python",
   "name": "python",
   "nbconvert_exporter": "python",
   "pygments_lexer": "ipython3",
   "version": "3.7.3"
  }
 },
 "nbformat": 4,
 "nbformat_minor": 2
}
