{
 "cells": [
  {
   "cell_type": "code",
   "execution_count": 20,
   "metadata": {},
   "outputs": [],
   "source": [
    "def fac(n):\n",
    "    if n == 0 or n == 1:\n",
    "        return 1\n",
    "    else:\n",
    "        return n*fac(n-1)\n",
    "    \n",
    "def binom(n,k):\n",
    "    if n >= k:\n",
    "        return fac(n)/ (fac(k) *fac(n-k))\n",
    "    else:\n",
    "        return 'wrong input! n sholuld be greater or equal to k'"
   ]
  },
  {
   "cell_type": "code",
   "execution_count": 21,
   "metadata": {},
   "outputs": [
    {
     "data": {
      "text/plain": [
       "'wrong input! n sholuld be greater or equal to k'"
      ]
     },
     "execution_count": 21,
     "metadata": {},
     "output_type": "execute_result"
    }
   ],
   "source": [
    "binom(3,7)"
   ]
  },
  {
   "cell_type": "code",
   "execution_count": 51,
   "metadata": {},
   "outputs": [],
   "source": [
    "def number_of_factors(n):\n",
    "    A = []\n",
    "    for i in range(1, n+1):\n",
    "        if n % i == 0:\n",
    "            A.append(i)\n",
    "    print('A = ', A,  ',', 'B = ', len(A))  \n",
    "    return\n",
    "           \n",
    "   "
   ]
  },
  {
   "cell_type": "code",
   "execution_count": 52,
   "metadata": {},
   "outputs": [
    {
     "name": "stdout",
     "output_type": "stream",
     "text": [
      "A =  [1, 2, 5, 10] , B =  4\n"
     ]
    }
   ],
   "source": [
    "number_of_factors(10)"
   ]
  },
  {
   "cell_type": "code",
   "execution_count": 96,
   "metadata": {},
   "outputs": [],
   "source": [
    "def closest(L,n):\n",
    "    L.sort()\n",
    "    m = len(L)\n",
    "    \n",
    "    for i in range(m):\n",
    "        if n <= L[i]:\n",
    "            return L[i-1]\n",
    "        #else:\n",
    "    return L[-1]"
   ]
  },
  {
   "cell_type": "code",
   "execution_count": 98,
   "metadata": {},
   "outputs": [
    {
     "data": {
      "text/plain": [
       "9"
      ]
     },
     "execution_count": 98,
     "metadata": {},
     "output_type": "execute_result"
    }
   ],
   "source": [
    "closest([4,6,9,2,0],10)"
   ]
  },
  {
   "cell_type": "code",
   "execution_count": 13,
   "metadata": {},
   "outputs": [],
   "source": [
    "def matches(s1, s2):\n",
    "    if len(s1) <= len(s2):\n",
    "        n = len(s1)\n",
    "    else:\n",
    "        n = len(s2)\n",
    "        sum = 0\n",
    "    for i in range(n):\n",
    "        if s1[i] == s2[i]:\n",
    "            sum += 1\n",
    "    return sum\n",
    "    "
   ]
  },
  {
   "cell_type": "code",
   "execution_count": 19,
   "metadata": {},
   "outputs": [
    {
     "data": {
      "text/plain": [
       "6"
      ]
     },
     "execution_count": 19,
     "metadata": {},
     "output_type": "execute_result"
    }
   ],
   "source": [
    "matches('patricia', 'patrick')"
   ]
  },
  {
   "cell_type": "code",
   "execution_count": 190,
   "metadata": {},
   "outputs": [],
   "source": [
    "def findall(string,k):\n",
    "    b =[]\n",
    "    for i in range(len(string)):\n",
    "        if k == string[i]:\n",
    "            b.append(i)\n",
    "    return b\n",
    "     "
   ]
  },
  {
   "cell_type": "code",
   "execution_count": 191,
   "metadata": {},
   "outputs": [
    {
     "data": {
      "text/plain": [
       "[0, 4, 8]"
      ]
     },
     "execution_count": 191,
     "metadata": {},
     "output_type": "execute_result"
    }
   ],
   "source": [
    "findall('alexandrai','a')"
   ]
  },
  {
   "cell_type": "code",
   "execution_count": 79,
   "metadata": {},
   "outputs": [],
   "source": [
    "def is_sorted(lst):\n",
    "   # lst.sort()\n",
    "    #if lst is True:\n",
    "    #    return True\n",
    "    #return False\n",
    "    A = lst\n",
    "    if A == lst.sort():\n",
    "        return 'true'\n",
    "    return 'false'\n",
    "   "
   ]
  },
  {
   "cell_type": "code",
   "execution_count": 80,
   "metadata": {},
   "outputs": [
    {
     "data": {
      "text/plain": [
       "'false'"
      ]
     },
     "execution_count": 80,
     "metadata": {},
     "output_type": "execute_result"
    }
   ],
   "source": [
    "is_sorted([1,2,3,4,5,6,7])"
   ]
  },
  {
   "cell_type": "code",
   "execution_count": 55,
   "metadata": {},
   "outputs": [],
   "source": [
    "def root(x, n = 2):\n",
    "    return x**(1/n)\n",
    "    "
   ]
  },
  {
   "cell_type": "code",
   "execution_count": 56,
   "metadata": {},
   "outputs": [
    {
     "data": {
      "text/plain": [
       "5.0"
      ]
     },
     "execution_count": 56,
     "metadata": {},
     "output_type": "execute_result"
    }
   ],
   "source": [
    "root(25, n = 2)"
   ]
  },
  {
   "cell_type": "code",
   "execution_count": 184,
   "metadata": {},
   "outputs": [],
   "source": [
    "def one_way(s1, s2):\n",
    "    n = len(s1)\n",
    "    if len(s1) == len(s2):\n",
    "        return True\n",
    "    else:\n",
    "        count == 0\n",
    "        for i in range(n):\n",
    "            if s1[i] != s2[i]:\n",
    "                count += i\n",
    "        if count == 1:\n",
    "            return True\n",
    "    return False"
   ]
  },
  {
   "cell_type": "code",
   "execution_count": 185,
   "metadata": {},
   "outputs": [
    {
     "data": {
      "text/plain": [
       "True"
      ]
     },
     "execution_count": 185,
     "metadata": {},
     "output_type": "execute_result"
    }
   ],
   "source": [
    "one_way('waste', 'wafer')"
   ]
  },
  {
   "cell_type": "code",
   "execution_count": 141,
   "metadata": {},
   "outputs": [],
   "source": [
    "def prime():\n",
    "    if n == 1:\n",
    "        return False\n",
    "    else:\n",
    "        for i in range(2,n):\n",
    "            if n % i == 0:\n",
    "                return False\n",
    "        return true\n",
    "        \n",
    "def primes(n = 100):\n",
    "    A = []"
   ]
  },
  {
   "cell_type": "code",
   "execution_count": 142,
   "metadata": {},
   "outputs": [
    {
     "data": {
      "text/plain": [
       "'there are no primes'"
      ]
     },
     "execution_count": 142,
     "metadata": {},
     "output_type": "execute_result"
    }
   ],
   "source": [
    "primes(n= 100)"
   ]
  },
  {
   "cell_type": "code",
   "execution_count": 156,
   "metadata": {},
   "outputs": [],
   "source": [
    "def sort_ind(L, n):\n",
    "    m = len(L)\n",
    "    if len(L) == 0:\n",
    "        return 0\n",
    "    elif L[0] >= n:\n",
    "        return 0\n",
    "    elif(n >= L[-1]):\n",
    "        return m\n",
    "    else:\n",
    "        for i in range(m):\n",
    "            if(L[i] >= n):\n",
    "                return i "
   ]
  },
  {
   "cell_type": "code",
   "execution_count": 171,
   "metadata": {},
   "outputs": [
    {
     "data": {
      "text/plain": [
       "2"
      ]
     },
     "execution_count": 171,
     "metadata": {},
     "output_type": "execute_result"
    }
   ],
   "source": [
    "x = [2,4,7]\n",
    "sort_ind(x, 5)"
   ]
  },
  {
   "cell_type": "code",
   "execution_count": 172,
   "metadata": {},
   "outputs": [],
   "source": [
    "def SortList(list1):\n",
    "    L = []\n",
    "    for n in list1:\n",
    "        i = sort_ind(L, n)\n",
    "        L.insert(i, n)\n",
    "    return L"
   ]
  },
  {
   "cell_type": "code",
   "execution_count": 173,
   "metadata": {},
   "outputs": [
    {
     "data": {
      "text/plain": [
       "[2, 3, 8, 20]"
      ]
     },
     "execution_count": 173,
     "metadata": {},
     "output_type": "execute_result"
    }
   ],
   "source": [
    "list1 = [20,8,2, 3]\n",
    "SortList(list1)"
   ]
  },
  {
   "cell_type": "code",
   "execution_count": null,
   "metadata": {},
   "outputs": [],
   "source": [
    "def wordn(s, n):\n",
    "    "
   ]
  },
  {
   "cell_type": "code",
   "execution_count": 188,
   "metadata": {},
   "outputs": [],
   "source": [
    "def change_case(S):\n",
    "    s = ''\n",
    "    R = len(S)\n",
    "    for i in range(R):\n",
    "        if S[i].islower():\n",
    "            s += S[i].upper()\n",
    "        else:\n",
    "            S[i].isupper()\n",
    "            s += S[i].lower()\n",
    "    return s"
   ]
  },
  {
   "cell_type": "code",
   "execution_count": 189,
   "metadata": {},
   "outputs": [
    {
     "data": {
      "text/plain": [
       "'THIngs'"
      ]
     },
     "execution_count": 189,
     "metadata": {},
     "output_type": "execute_result"
    }
   ],
   "source": [
    "S = 'thiNGS'\n",
    "change_case(S)"
   ]
  },
  {
   "cell_type": "code",
   "execution_count": null,
   "metadata": {},
   "outputs": [],
   "source": []
  }
 ],
 "metadata": {
  "kernelspec": {
   "display_name": "Python 3",
   "language": "python",
   "name": "python3"
  },
  "language_info": {
   "codemirror_mode": {
    "name": "ipython",
    "version": 3
   },
   "file_extension": ".py",
   "mimetype": "text/x-python",
   "name": "python",
   "nbconvert_exporter": "python",
   "pygments_lexer": "ipython3",
   "version": "3.7.3"
  }
 },
 "nbformat": 4,
 "nbformat_minor": 2
}
