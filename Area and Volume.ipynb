{
 "cells": [
  {
   "cell_type": "code",
   "execution_count": 6,
   "metadata": {},
   "outputs": [
    {
     "name": "stdout",
     "output_type": "stream",
     "text": [
      "Enter the radius of a circle5\n",
      "Enter the height of the cylinder7\n",
      "78.53981633974483 246.74011002723395\n"
     ]
    }
   ],
   "source": [
    "from numpy import pi\n",
    "r = float(input('Enter the radius of a circle'))\n",
    "h = float(input('Enter the height of the cylinder'))\n",
    "Area = pi * r **2\n",
    "Volume = Area * pi\n",
    "print(Area, Volume)"
   ]
  },
  {
   "cell_type": "code",
   "execution_count": null,
   "metadata": {},
   "outputs": [],
   "source": []
  }
 ],
 "metadata": {
  "kernelspec": {
   "display_name": "Python 3",
   "language": "python",
   "name": "python3"
  },
  "language_info": {
   "codemirror_mode": {
    "name": "ipython",
    "version": 3
   },
   "file_extension": ".py",
   "mimetype": "text/x-python",
   "name": "python",
   "nbconvert_exporter": "python",
   "pygments_lexer": "ipython3",
   "version": "3.7.3"
  }
 },
 "nbformat": 4,
 "nbformat_minor": 2
}
