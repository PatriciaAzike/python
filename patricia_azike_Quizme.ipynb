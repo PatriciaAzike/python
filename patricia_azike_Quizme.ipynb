{
 "cells": [
  {
   "cell_type": "code",
   "execution_count": 2,
   "metadata": {},
   "outputs": [
    {
     "name": "stdout",
     "output_type": "stream",
     "text": [
      "Enter the value of n: 4\n",
      "0.1\n"
     ]
    }
   ],
   "source": [
    "n = int(input('Enter the value of n: '))\n",
    "sum = 0\n",
    "A = 0\n",
    "for i in range(1, n+1):\n",
    "    sum = sum + i\n",
    "    A = 1/ sum\n",
    "print(A)"
   ]
  },
  {
   "cell_type": "code",
   "execution_count": 13,
   "metadata": {},
   "outputs": [
    {
     "name": "stdout",
     "output_type": "stream",
     "text": [
      "Enter an integer: 2\n",
      "Enter a real number: 2\n",
      "B is -0.75\n"
     ]
    }
   ],
   "source": [
    "n = int(input('Enter an integer: '))\n",
    "x = float(input('Enter a real number: '))\n",
    "P = 0\n",
    "B = 0\n",
    "for i in range(0, n+1):\n",
    "    P = ((-1)**(i + 1))/ x**i\n",
    "    B = B + P\n",
    "print('B is', B)"
   ]
  },
  {
   "cell_type": "code",
   "execution_count": 5,
   "metadata": {},
   "outputs": [
    {
     "name": "stdout",
     "output_type": "stream",
     "text": [
      "Enter the value: 1\n",
      "X is 123\n"
     ]
    }
   ],
   "source": [
    "k = int(input('Enter the value: '))\n",
    "if 1 <= k <= 9:\n",
    "    A = k*1\n",
    "    B = k*10 + A\n",
    "    C = k*100 + B\n",
    "    X = A + B + C\n",
    "    print('X is', X)\n",
    "    "
   ]
  },
  {
   "cell_type": "code",
   "execution_count": 9,
   "metadata": {},
   "outputs": [
    {
     "name": "stdout",
     "output_type": "stream",
     "text": [
      "18\n"
     ]
    }
   ],
   "source": [
    "Z = '26514'\n",
    "eval(Z)\n",
    "p = int(Z[0])\n",
    "q = int(Z[1])\n",
    "r = int(Z[2])\n",
    "s = int(Z[3])\n",
    "t = int(Z[4])\n",
    "\n",
    "Z = p + q + r + s + t\n",
    "print(Z)"
   ]
  },
  {
   "cell_type": "code",
   "execution_count": 18,
   "metadata": {},
   "outputs": [
    {
     "name": "stdout",
     "output_type": "stream",
     "text": [
      "Enter the time in seconds: 98006\n",
      "98006 is equal to 1 day(s) 3 hour(s) 13 minute(s) 26 second(s)\n"
     ]
    }
   ],
   "source": [
    "T = int(input('Enter the time in seconds: '))\n",
    "# 1 day  = 24 hours = 24 * 60 minutes = 24 * 60 *60 seconds = 86400 = a\n",
    "# 1 hr = 60 minutes = 60 * 60 seconds = 3600 = b\n",
    "# 1 minute = 60 seconds\n",
    "\n",
    "a = 86400\n",
    "b = 3600\n",
    "c = 60\n",
    "\n",
    "T_1 = T // a\n",
    "T_2 = (T - (T_1 * a)) // b\n",
    "T_3 = (T - (T_1 * a) - (T_2 * b)) // c\n",
    "T_4 = T - (T_1 * a) - (T_2 * b) - (T_3 * c)\n",
    "print(T, 'is equal to', T_1, 'day(s)', T_2, 'hour(s)', T_3, 'minute(s)', T_4, 'second(s)')"
   ]
  },
  {
   "cell_type": "code",
   "execution_count": 21,
   "metadata": {},
   "outputs": [
    {
     "name": "stdout",
     "output_type": "stream",
     "text": [
      "Enter the coefficient of x**2: 1\n",
      "Enter the coefficient of x: -1\n",
      "Enter the constant: -1\n",
      "real and distinct roots: x_1 = 1.618033988749895 x_2 = -0.6180339887498949\n"
     ]
    }
   ],
   "source": [
    "a = float(input('Enter the coefficient of x**2: '))\n",
    "b = float(input('Enter the coefficient of x: '))\n",
    "c = float(input('Enter the constant: '))\n",
    "x_1 = (-b + (b**2 - 4*a*c)**(1/2))/ 2*a\n",
    "x_2 = (-b - (b**2 - 4*a*c)**(1/2))/ 2*a\n",
    "if b**2 > 4*a*c:\n",
    "    print('real and distinct roots: ' 'x_1 =', x_1, 'x_2 =', x_2)\n",
    "elif b**2 == 4*a*c:\n",
    "    print('real and repeated roots: ' 'x_1 =', x_1, 'x_2 =', x_2)\n",
    "else:\n",
    "    print('complex roots: ' 'x_1 =', x_1,  'x_2 =', x_2)"
   ]
  },
  {
   "cell_type": "code",
   "execution_count": 55,
   "metadata": {},
   "outputs": [
    {
     "name": "stdout",
     "output_type": "stream",
     "text": [
      "Enter the number of terms: 50\n",
      "1\n",
      "2\n",
      "3\n",
      "5\n",
      "8\n",
      "13\n",
      "21\n",
      "34\n",
      "55\n",
      "89\n",
      "144\n",
      "233\n",
      "377\n",
      "610\n",
      "987\n",
      "1597\n",
      "2584\n",
      "4181\n",
      "6765\n",
      "10946\n",
      "17711\n",
      "28657\n",
      "46368\n",
      "75025\n",
      "121393\n",
      "196418\n",
      "317811\n",
      "514229\n",
      "832040\n",
      "1346269\n",
      "2178309\n",
      "3524578\n",
      "5702887\n",
      "9227465\n",
      "14930352\n",
      "24157817\n",
      "39088169\n",
      "63245986\n",
      "102334155\n",
      "165580141\n",
      "267914296\n",
      "433494437\n",
      "701408733\n",
      "1134903170\n",
      "1836311903\n",
      "2971215073\n",
      "4807526976\n",
      "7778742049\n",
      "12586269025\n",
      "20365011074\n",
      "53316291173 the 50th term\n"
     ]
    }
   ],
   "source": [
    "n = int(input('Enter the number of terms: '))\n",
    "a = 1\n",
    "b = 2\n",
    "sum = 0\n",
    "i = 1\n",
    "\n",
    "while i <= n:\n",
    "    print(a)\n",
    "    sum = a + b\n",
    "    a = b\n",
    "    b = sum\n",
    "    i = i + 1\n",
    "print(b,'the 50th term')\n"
   ]
  },
  {
   "cell_type": "code",
   "execution_count": 59,
   "metadata": {},
   "outputs": [
    {
     "data": {
      "text/plain": [
       "[32951280099]"
      ]
     },
     "execution_count": 59,
     "metadata": {},
     "output_type": "execute_result"
    }
   ],
   "source": []
  },
  {
   "cell_type": "code",
   "execution_count": 42,
   "metadata": {},
   "outputs": [
    {
     "name": "stdout",
     "output_type": "stream",
     "text": [
      "Enter the number of terms5\n",
      "2 3 5\n",
      "3 5 8\n",
      "5 8 13\n",
      "8 13 21\n"
     ]
    }
   ],
   "source": [
    "n = int(input('Enter the number of terms'))\n",
    "a = 1\n",
    "b = 2\n",
    "sum = a + b\n",
    "\n",
    "for i in range(1, n):\n",
    "    a = b\n",
    "    b = sum\n",
    "    sum = a + b\n",
    "    print(a, b, sum)"
   ]
  },
  {
   "cell_type": "code",
   "execution_count": 67,
   "metadata": {},
   "outputs": [
    {
     "name": "stdout",
     "output_type": "stream",
     "text": [
      "Enter the number of terms: 10\n",
      "1\n",
      "2\n",
      "3\n",
      "5\n",
      "8\n",
      "13\n",
      "21\n",
      "34\n",
      "55\n",
      "89\n",
      "233 the 10th term\n"
     ]
    }
   ],
   "source": [
    "n = int(input('Enter the number of terms: '))\n",
    "a = 1\n",
    "b = 2\n",
    "sum = 0\n",
    "for i in range(1, n+1):\n",
    "    print(a)\n",
    "    sum = a + b\n",
    "    a = b\n",
    "    b = sum\n",
    "    i = i + 1\n",
    "print(b,'the 10th term')\n"
   ]
  },
  {
   "cell_type": "code",
   "execution_count": 62,
   "metadata": {},
   "outputs": [
    {
     "data": {
      "text/plain": [
       "50"
      ]
     },
     "execution_count": 62,
     "metadata": {},
     "output_type": "execute_result"
    }
   ],
   "source": [
    "len(g)"
   ]
  },
  {
   "cell_type": "code",
   "execution_count": 65,
   "metadata": {},
   "outputs": [
    {
     "data": {
      "text/plain": [
       "20365011074"
      ]
     },
     "execution_count": 65,
     "metadata": {},
     "output_type": "execute_result"
    }
   ],
   "source": [
    "g[49]"
   ]
  },
  {
   "cell_type": "code",
   "execution_count": 70,
   "metadata": {},
   "outputs": [
    {
     "name": "stdout",
     "output_type": "stream",
     "text": [
      "x = -0.682342529296875\n",
      "f(x) = -3.5293176750883504e-05\n"
     ]
    }
   ],
   "source": [
    "def g(x):\n",
    "    return x**3 + x + 1\n",
    "\n",
    "def bisect(f,a,b):\n",
    "    tol = 1e-4\n",
    "    while (True):\n",
    "        c = (a+b)/2;\n",
    "        if (f(a)*f(c) < 0):\n",
    "            b = c\n",
    "        elif abs(b-a) < tol:\n",
    "            return (a+b)/2\n",
    "        else:\n",
    "            a = c\n",
    "        \n",
    "xroot = bisect(g,-2,2)\n",
    "print('x =', xroot)\n",
    "print('f(x) =', g(xroot))"
   ]
  },
  {
   "cell_type": "code",
   "execution_count": null,
   "metadata": {},
   "outputs": [],
   "source": []
  }
 ],
 "metadata": {
  "kernelspec": {
   "display_name": "Python 3",
   "language": "python",
   "name": "python3"
  },
  "language_info": {
   "codemirror_mode": {
    "name": "ipython",
    "version": 3
   },
   "file_extension": ".py",
   "mimetype": "text/x-python",
   "name": "python",
   "nbconvert_exporter": "python",
   "pygments_lexer": "ipython3",
   "version": "3.7.3"
  }
 },
 "nbformat": 4,
 "nbformat_minor": 2
}
