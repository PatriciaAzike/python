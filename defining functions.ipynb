{
 "cells": [
  {
   "cell_type": "code",
   "execution_count": 6,
   "metadata": {},
   "outputs": [
    {
     "data": {
      "text/plain": [
       "[0, 2, 4, 6, 8, 10]"
      ]
     },
     "execution_count": 6,
     "metadata": {},
     "output_type": "execute_result"
    }
   ],
   "source": [
    "seq1 = list(range(0,11,2))\n",
    "seq1"
   ]
  },
  {
   "cell_type": "code",
   "execution_count": 4,
   "metadata": {},
   "outputs": [
    {
     "data": {
      "text/plain": [
       "[1, 2, 3, 4, 5, 6, 7, 8, 9]"
      ]
     },
     "execution_count": 4,
     "metadata": {},
     "output_type": "execute_result"
    }
   ],
   "source": [
    "A = list(range(1,10))\n",
    "A"
   ]
  },
  {
   "cell_type": "code",
   "execution_count": 12,
   "metadata": {},
   "outputs": [
    {
     "data": {
      "text/plain": [
       "[20, 19, 18, 17, 16, 15, 14, 13, 12, 11, 10, 9, 8, 7, 6, 5, 4, 3, 2, 1]"
      ]
     },
     "execution_count": 12,
     "metadata": {},
     "output_type": "execute_result"
    }
   ],
   "source": [
    "A = list(range(20,0, -1))\n",
    "A"
   ]
  },
  {
   "cell_type": "code",
   "execution_count": 13,
   "metadata": {},
   "outputs": [
    {
     "ename": "NameError",
     "evalue": "name 'mylist' is not defined",
     "output_type": "error",
     "traceback": [
      "\u001b[0;31m---------------------------------------------------------------------------\u001b[0m",
      "\u001b[0;31mNameError\u001b[0m                                 Traceback (most recent call last)",
      "\u001b[0;32m<ipython-input-13-787410b875dd>\u001b[0m in \u001b[0;36m<module>\u001b[0;34m()\u001b[0m\n\u001b[0;32m----> 1\u001b[0;31m \u001b[0mmylist\u001b[0m\u001b[0;34m\u001b[0m\u001b[0;34m\u001b[0m\u001b[0m\n\u001b[0m",
      "\u001b[0;31mNameError\u001b[0m: name 'mylist' is not defined"
     ]
    }
   ],
   "source": [
    "mylist"
   ]
  },
  {
   "cell_type": "code",
   "execution_count": 2,
   "metadata": {},
   "outputs": [
    {
     "data": {
      "text/plain": [
       "28.259999999999998"
      ]
     },
     "execution_count": 2,
     "metadata": {},
     "output_type": "execute_result"
    }
   ],
   "source": [
    "def disk_area(radius):\n",
    "     return 3.14 * radius * radius\n",
    "disk_area(3)"
   ]
  },
  {
   "cell_type": "code",
   "execution_count": 24,
   "metadata": {},
   "outputs": [
    {
     "name": "stdout",
     "output_type": "stream",
     "text": [
      "2.279018786166591\n"
     ]
    }
   ],
   "source": [
    "#def g(x):\n",
    "    #return x**3 - 3*x - 5\n",
    "\n",
    "def Bissection1(epsilon):\n",
    "    f = lambda x: x**3 - 3*x - 5\n",
    "    a = -10\n",
    "    b = 10\n",
    "    if f(a)*f(b) >= 0:\n",
    "        print('bisection method fails')\n",
    "    else:\n",
    "        while abs(b-a) > epsilon:\n",
    "            c = (a+b)/2\n",
    "            \n",
    "            if f(c) == 0:\n",
    "                return c    #print('the exact solution is: ', c)\n",
    "            elif f(a)*f(c) < 0: \n",
    "                b = c\n",
    "            else:\n",
    "                a = c       \n",
    "        return c\n",
    "epsilon = 0.000000000000005\n",
    "x_bar = Bissection1(epsilon)\n",
    "print(x_bar)\n",
    "        \n",
    "#xroot = bisect(g,-10,10)\n",
    "#print('x =', xroot)\n",
    "#print('f(x) =', g(xroot))"
   ]
  },
  {
   "cell_type": "code",
   "execution_count": 36,
   "metadata": {},
   "outputs": [
    {
     "name": "stdout",
     "output_type": "stream",
     "text": [
      "Enter a name: patricia\n"
     ]
    },
    {
     "data": {
      "text/plain": [
       "8"
      ]
     },
     "execution_count": 36,
     "metadata": {},
     "output_type": "execute_result"
    }
   ],
   "source": [
    "def num_char(name):\n",
    "    return (len(name))\n",
    "num_char(input('Enter a name: '))"
   ]
  },
  {
   "cell_type": "code",
   "execution_count": 42,
   "metadata": {},
   "outputs": [
    {
     "name": "stdout",
     "output_type": "stream",
     "text": [
      "Enter s: no\n"
     ]
    },
    {
     "data": {
      "text/plain": [
       "'Shutdown aborted'"
      ]
     },
     "execution_count": 42,
     "metadata": {},
     "output_type": "execute_result"
    }
   ],
   "source": [
    "def shut_down(s):\n",
    "    if s == 'yes':\n",
    "        return 'Shutting down'\n",
    "    elif s == 'no':\n",
    "        return 'Shutdown aborted'\n",
    "    else:\n",
    "        return 'Sorry'\n",
    "shut_down(input('Enter s: '))"
   ]
  },
  {
   "cell_type": "code",
   "execution_count": 47,
   "metadata": {},
   "outputs": [
    {
     "name": "stdout",
     "output_type": "stream",
     "text": [
      "Enter a number, n: 10\n"
     ]
    },
    {
     "data": {
      "text/plain": [
       "55"
      ]
     },
     "execution_count": 47,
     "metadata": {},
     "output_type": "execute_result"
    }
   ],
   "source": [
    "# a function that returns the sum of numbers from 1 to n\n",
    "def sum_n(n):\n",
    "    sum = 0\n",
    "    for i in range(0, n+1):\n",
    "        sum = sum + i\n",
    "    return sum\n",
    "sum_n(int(input('Enter a number, n: '))) "
   ]
  },
  {
   "cell_type": "code",
   "execution_count": 56,
   "metadata": {},
   "outputs": [],
   "source": [
    "# function that takes the square of the numbers from m to n\n",
    "def sum_nm(n,m):\n",
    "    sum = 1\n",
    "    for i in range(m, n+1):\n",
    "        sum = sum + i**2\n",
    "    return sum\n"
   ]
  },
  {
   "cell_type": "code",
   "execution_count": 57,
   "metadata": {},
   "outputs": [
    {
     "data": {
      "text/plain": [
       "385"
      ]
     },
     "execution_count": 57,
     "metadata": {},
     "output_type": "execute_result"
    }
   ],
   "source": [
    "sum_nm(10,2)"
   ]
  },
  {
   "cell_type": "code",
   "execution_count": 7,
   "metadata": {},
   "outputs": [
    {
     "name": "stdout",
     "output_type": "stream",
     "text": [
      "2.279541015625 , 0.006572440863237716\n"
     ]
    }
   ],
   "source": [
    "def Bissection3(epsilon,a, b, f):\n",
    "    #f = lambda x: x**3 - 3*x - 5\n",
    "    if f(a)*f(b) >= 0:\n",
    "        print('bisection method fails')\n",
    "    else:\n",
    "        while abs(b-a) > epsilon:\n",
    "            c = (a+b)/2\n",
    "            \n",
    "            if f(c) == 0:\n",
    "                return c, f(c)    #print('the exact solution is: ', c)\n",
    "            elif f(a)*f(c) < 0: \n",
    "                b = c\n",
    "            else:\n",
    "                a = c       \n",
    "        return c, f(c)\n",
    "a = -5\n",
    "b = 7    \n",
    "epsilon = 0.001\n",
    "f = lambda x: x**3 - 3*x - 5\n",
    "x_bar, f_xbar = Bissection3(epsilon, a, b, f)\n",
    "print(x_bar, ',', f_xbar)\n",
    "        "
   ]
  },
  {
   "cell_type": "code",
   "execution_count": 17,
   "metadata": {},
   "outputs": [
    {
     "name": "stdout",
     "output_type": "stream",
     "text": [
      "The sum is 6 and the product is 6\n"
     ]
    }
   ],
   "source": [
    "def som_prod(m,n):\n",
    "    som = 0\n",
    "    prod = 1\n",
    "    for i in range(m, n+1):\n",
    "        som = som + i\n",
    "        prod = prod *i\n",
    "    return som, prod\n",
    "\n",
    "m = 1\n",
    "n = 3\n",
    "som, prod = som_prod(m,n)\n",
    "print('The sum is', som, 'and the product is', prod)"
   ]
  },
  {
   "cell_type": "code",
   "execution_count": 13,
   "metadata": {},
   "outputs": [
    {
     "data": {
      "text/plain": [
       "(6, 6)"
      ]
     },
     "execution_count": 13,
     "metadata": {},
     "output_type": "execute_result"
    }
   ],
   "source": [
    "som_prod(3,1)"
   ]
  },
  {
   "cell_type": "code",
   "execution_count": 19,
   "metadata": {},
   "outputs": [
    {
     "name": "stdout",
     "output_type": "stream",
     "text": [
      "2\n"
     ]
    }
   ],
   "source": [
    "def P(x = 2):\n",
    "    y = x**2 + 1\n",
    "    return y\n",
    "aa = P(1)\n",
    "print(aa)"
   ]
  },
  {
   "cell_type": "code",
   "execution_count": 21,
   "metadata": {},
   "outputs": [
    {
     "name": "stdout",
     "output_type": "stream",
     "text": [
      "27\n"
     ]
    }
   ],
   "source": [
    "def P(t, x = 2):\n",
    "    y = x**2 + 1 + t\n",
    "    return y\n",
    "\n",
    "aa = P(1, 5)\n",
    "print(aa)"
   ]
  },
  {
   "cell_type": "code",
   "execution_count": 22,
   "metadata": {},
   "outputs": [
    {
     "name": "stdout",
     "output_type": "stream",
     "text": [
      "[3, 6, 9, 8]\n",
      "[3, 6, 9, 0]\n"
     ]
    }
   ],
   "source": [
    "L1 = [3,6,9,0]\n",
    "L2 = L1.copy()\n",
    "L2[3] = 8\n",
    "print(L2)\n",
    "print(L1)"
   ]
  },
  {
   "cell_type": "code",
   "execution_count": 1,
   "metadata": {},
   "outputs": [
    {
     "data": {
      "text/plain": [
       "[0, 2, 8, 2, 10]"
      ]
     },
     "execution_count": 1,
     "metadata": {},
     "output_type": "execute_result"
    }
   ],
   "source": [
    "\n",
    "def EvenNum(list1):\n",
    "    \n",
    "    return [i for i in list1 if i%2==0]\n",
    "\n",
    "EvenNum([0,2,8,2,10,11,13])"
   ]
  },
  {
   "cell_type": "code",
   "execution_count": null,
   "metadata": {},
   "outputs": [],
   "source": []
  }
 ],
 "metadata": {
  "kernelspec": {
   "display_name": "Python 3",
   "language": "python",
   "name": "python3"
  },
  "language_info": {
   "codemirror_mode": {
    "name": "ipython",
    "version": 3
   },
   "file_extension": ".py",
   "mimetype": "text/x-python",
   "name": "python",
   "nbconvert_exporter": "python",
   "pygments_lexer": "ipython3",
   "version": "3.7.3"
  }
 },
 "nbformat": 4,
 "nbformat_minor": 2
}
