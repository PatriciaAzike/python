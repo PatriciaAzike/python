{
 "cells": [
  {
   "cell_type": "code",
   "execution_count": 1,
   "metadata": {},
   "outputs": [],
   "source": [
    "# Binomial coefficient\n",
    "def fac(n):\n",
    "    if n == 0 or n == 1:\n",
    "        return 1\n",
    "    else:\n",
    "        return n*fac(n-1)\n",
    "    \n",
    "def binom(n,k):\n",
    "    if n >= k:\n",
    "        return fac(n)/ (fac(k) *fac(n-k))\n",
    "    else:\n",
    "        return 'wrong input! n sholuld be greater or equal to k'"
   ]
  },
  {
   "cell_type": "code",
   "execution_count": 2,
   "metadata": {},
   "outputs": [
    {
     "data": {
      "text/plain": [
       "10.0"
      ]
     },
     "execution_count": 2,
     "metadata": {},
     "output_type": "execute_result"
    }
   ],
   "source": [
    "binom(5,3)"
   ]
  },
  {
   "cell_type": "code",
   "execution_count": 3,
   "metadata": {},
   "outputs": [
    {
     "name": "stdout",
     "output_type": "stream",
     "text": [
      "4\n",
      "[1, 2, 5, 10]\n"
     ]
    }
   ],
   "source": [
    "# number of factors\n",
    "def number_of_factors(n):\n",
    "    A = []\n",
    "    for i in range(1, n+1):\n",
    "        if n % i == 0:\n",
    "            A.append(i)\n",
    "    return len(A), A\n",
    "r,L= number_of_factors(10)   \n",
    "print(r)\n",
    "print(L)\n",
    "           "
   ]
  },
  {
   "cell_type": "code",
   "execution_count": 4,
   "metadata": {},
   "outputs": [
    {
     "data": {
      "text/plain": [
       "9"
      ]
     },
     "execution_count": 4,
     "metadata": {},
     "output_type": "execute_result"
    }
   ],
   "source": [
    "# function of number below n \n",
    "def closest(L,n):\n",
    "    L.sort()\n",
    "    m = len(L)\n",
    "    \n",
    "    for i in range(m):\n",
    "        if n <= L[i]:\n",
    "            return L[i-1]\n",
    "        #else:\n",
    "    return L[-1]\n",
    "closest([4,6,9,2,0],10)"
   ]
  },
  {
   "cell_type": "code",
   "execution_count": 5,
   "metadata": {},
   "outputs": [
    {
     "data": {
      "text/plain": [
       "6"
      ]
     },
     "execution_count": 5,
     "metadata": {},
     "output_type": "execute_result"
    }
   ],
   "source": [
    "# function for matches\n",
    "def matches(s1, s2):\n",
    "    if len(s1) <= len(s2):\n",
    "        n = len(s1)\n",
    "    else:\n",
    "        n = len(s2)\n",
    "        sum = 0\n",
    "    for i in range(n):\n",
    "        if s1[i] == s2[i]:\n",
    "            sum += 1\n",
    "    return sum\n",
    "matches('patricia', 'patrick')"
   ]
  },
  {
   "cell_type": "code",
   "execution_count": 6,
   "metadata": {},
   "outputs": [
    {
     "data": {
      "text/plain": [
       "[0, 4, 8]"
      ]
     },
     "execution_count": 6,
     "metadata": {},
     "output_type": "execute_result"
    }
   ],
   "source": [
    "# function to find all\n",
    "def findall(string,k):\n",
    "    b =[]\n",
    "    for i in range(len(string)):\n",
    "        if k == string[i]:\n",
    "            b.append(i)\n",
    "    return b\n",
    "findall('alexandrai','a')"
   ]
  },
  {
   "cell_type": "code",
   "execution_count": 7,
   "metadata": {},
   "outputs": [
    {
     "data": {
      "text/plain": [
       "5.0"
      ]
     },
     "execution_count": 7,
     "metadata": {},
     "output_type": "execute_result"
    }
   ],
   "source": [
    "# function for root\n",
    "def root(x, n = 2):\n",
    "    return x**(1/n)\n",
    "root(25, n = 2)"
   ]
  },
  {
   "cell_type": "code",
   "execution_count": 21,
   "metadata": {},
   "outputs": [
    {
     "data": {
      "text/plain": [
       "True"
      ]
     },
     "execution_count": 21,
     "metadata": {},
     "output_type": "execute_result"
    }
   ],
   "source": [
    "def one_way(s1, s2):\n",
    "    count = 0\n",
    "    if len(s1) == len(s2):\n",
    "        return True\n",
    "    else:\n",
    "        \n",
    "        for i in range(len(s1)):\n",
    "            if s1[i] != s2[i]:\n",
    "                count += i\n",
    "                if count == 1:\n",
    "                    return True\n",
    "                else:\n",
    "                    return False\n",
    "one_way('bike', 'bikl')"
   ]
  },
  {
   "cell_type": "code",
   "execution_count": 37,
   "metadata": {},
   "outputs": [
    {
     "name": "stdout",
     "output_type": "stream",
     "text": [
      "[]\n"
     ]
    }
   ],
   "source": [
    "def prime(n):\n",
    "    if n == 1:\n",
    "        return False\n",
    "    else:\n",
    "        for i in range(2,n):\n",
    "            if n % i == 0:\n",
    "                return False\n",
    "        return True\n",
    "        \n",
    "def primes(n = 100):\n",
    "    A = []\n",
    "    for i in range(2,100):\n",
    "        if prime(i):\n",
    "             A.append(n)\n",
    "    return A\n",
    "            \n",
    "#         if n % i ==0:\n",
    "#             return False\n",
    "#         if prime(n) and n not in A:\n",
    "#             A.append(n)\n",
    "#         else:\n",
    "#             pass\n",
    "    \n",
    "A = []\n",
    "primes(n = 100)\n",
    "print(A)"
   ]
  },
  {
   "cell_type": "code",
   "execution_count": 8,
   "metadata": {},
   "outputs": [
    {
     "data": {
      "text/plain": [
       "2"
      ]
     },
     "execution_count": 8,
     "metadata": {},
     "output_type": "execute_result"
    }
   ],
   "source": [
    "# function to sort the index of a list\n",
    "def sort_ind(L, n):\n",
    "    m = len(L)\n",
    "    if len(L) == 0:\n",
    "        return 0\n",
    "    elif L[0] >= n:\n",
    "        return 0\n",
    "    elif(n >= L[-1]):\n",
    "        return m\n",
    "    else:\n",
    "        for i in range(m):\n",
    "            if(L[i] >= n):\n",
    "                return i \n",
    "x = [2,4,7]\n",
    "sort_ind(x, 5)"
   ]
  },
  {
   "cell_type": "code",
   "execution_count": 9,
   "metadata": {},
   "outputs": [
    {
     "data": {
      "text/plain": [
       "[2, 3, 8, 20]"
      ]
     },
     "execution_count": 9,
     "metadata": {},
     "output_type": "execute_result"
    }
   ],
   "source": [
    "# function to sort a list\n",
    "def SortList(list1):\n",
    "    L = []\n",
    "    for n in list1:\n",
    "        i = sort_ind(L, n)\n",
    "        L.insert(i, n)\n",
    "    return L\n",
    "list1 = [20,8,2, 3]\n",
    "SortList(list1)"
   ]
  },
  {
   "cell_type": "code",
   "execution_count": 10,
   "metadata": {},
   "outputs": [
    {
     "data": {
      "text/plain": [
       "'THIngs'"
      ]
     },
     "execution_count": 10,
     "metadata": {},
     "output_type": "execute_result"
    }
   ],
   "source": [
    "# function to change cases\n",
    "def change_case(S):\n",
    "    s = ''\n",
    "    R = len(S)\n",
    "    for i in range(R):\n",
    "        if S[i].islower():\n",
    "            s += S[i].upper()\n",
    "        else:\n",
    "            S[i].isupper()\n",
    "            s += S[i].lower()\n",
    "    return s\n",
    "\n",
    "S = 'thiNGS'\n",
    "change_case(S)"
   ]
  },
  {
   "cell_type": "code",
   "execution_count": 26,
   "metadata": {},
   "outputs": [
    {
     "data": {
      "text/plain": [
       "(1, 0, 1)"
      ]
     },
     "execution_count": 26,
     "metadata": {},
     "output_type": "execute_result"
    }
   ],
   "source": [
    "def Articles(t):\n",
    "    count1 = 0\n",
    "    count2 = 0\n",
    "    count3 = 0\n",
    "    if 'a' in t:\n",
    "        count1 += 1\n",
    "    if 'an ' in t:\n",
    "        count2 += 1\n",
    "    if 'the' in t:\n",
    "        count3 += 1\n",
    "    return count1, count2, count3\n",
    "Articles('the student, called ange, is a girl from rwanda')"
   ]
  },
  {
   "cell_type": "code",
   "execution_count": null,
   "metadata": {},
   "outputs": [],
   "source": []
  }
 ],
 "metadata": {
  "kernelspec": {
   "display_name": "Python 3",
   "language": "python",
   "name": "python3"
  },
  "language_info": {
   "codemirror_mode": {
    "name": "ipython",
    "version": 3
   },
   "file_extension": ".py",
   "mimetype": "text/x-python",
   "name": "python",
   "nbconvert_exporter": "python",
   "pygments_lexer": "ipython3",
   "version": "3.7.3"
  }
 },
 "nbformat": 4,
 "nbformat_minor": 2
}
